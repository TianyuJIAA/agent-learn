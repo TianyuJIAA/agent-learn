{
 "cells": [
  {
   "cell_type": "code",
   "execution_count": 1,
   "metadata": {},
   "outputs": [],
   "source": [
    "# 加载api key \n",
    "import os\n",
    "from dotenv import load_dotenv\n",
    "\n",
    "load_dotenv()\n",
    "api_key = os.getenv(\"OPENAI_API_KEY\")\n",
    "google_api_key = os.getenv(\"SERPAPI_API_KEY\")"
   ]
  },
  {
   "cell_type": "code",
   "execution_count": null,
   "metadata": {},
   "outputs": [],
   "source": [
    "# langchain的基本使用\n",
    "from langchain_core.output_parsers import StrOutputParser\n",
    "from langchain_core.prompts import ChatPromptTemplate\n",
    "from langchain_openai import  ChatOpenAI\n",
    "\n",
    "prompt = ChatPromptTemplate.from_template(\"请讲一个关于{topic}的故事\")\n",
    "\n",
    "model = ChatOpenAI(model=\"deepseek-chat\",\n",
    "             api_key=api_key,\n",
    "             base_url=\"https://api.deepseek.com/beta\")\n",
    " \n",
    "output_parsers = StrOutputParser()\n",
    "\n",
    "chain = prompt | model | output_parsers\n",
    "\n",
    "message = chain.invoke({\"topic\": \"猫\"})\n",
    "print(message)"
   ]
  },
  {
   "cell_type": "markdown",
   "metadata": {},
   "source": [
    "### LangChain 六大模块\n",
    "\n",
    "lanchain是一个大模型应用开发框架，主要包含六大模块  \n",
    "\n",
    "<img src=\"../assets/langchain.png\" alt=\"examples\" style=\"zoom:30%;\" /> \n",
    "\n",
    "\n",
    "- 模型I/O 是langchain与大模型的接口，负责处理输入和输出数据，以及与各种大模型的交互\n",
    "- 检索(Retrieval) 这个模块负责与程序特定的数据交互，使langchain能够从外呼数据源中检索所需的信息。包括数据库、文件系统等\n",
    "- Agents langchain可以根据高层指令选择使用哪些工具，这些agent负责决定在给定的情境下最有效的工作方式\n",
    "- 链(chain) 这个模块包含常见的、可构建的组件，用于创建更复杂的逻辑和功能。这些链是LangChain处理信息和执行任务的基本构建块\n",
    "- 记忆(momory) 记忆模块负责在链运行过程中持久化程序的状态。这使得langchain能够记住先前的交互和信息，从而在多次运行中提供持续性\n",
    "- 回调(callback) 这个模块负责记录和传输链中的中间步骤。通过这种方式，开发者可以监控和分析langchain的运行情况"
   ]
  },
  {
   "cell_type": "code",
   "execution_count": null,
   "metadata": {},
   "outputs": [],
   "source": []
  }
 ],
 "metadata": {
  "kernelspec": {
   "display_name": "llm_env",
   "language": "python",
   "name": "python3"
  },
  "language_info": {
   "codemirror_mode": {
    "name": "ipython",
    "version": 3
   },
   "file_extension": ".py",
   "mimetype": "text/x-python",
   "name": "python",
   "nbconvert_exporter": "python",
   "pygments_lexer": "ipython3",
   "version": "3.10.12"
  }
 },
 "nbformat": 4,
 "nbformat_minor": 2
}
