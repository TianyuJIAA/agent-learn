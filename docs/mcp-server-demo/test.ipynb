{
 "cells": [
  {
   "cell_type": "code",
   "execution_count": 3,
   "id": "9ead3386",
   "metadata": {},
   "outputs": [
    {
     "name": "stdout",
     "output_type": "stream",
     "text": [
      "temperature=72.5 humidity=45.0 condition='sunny' wind_speed=5.2\n"
     ]
    }
   ],
   "source": [
    "# pydantic\n",
    "\n",
    "from pydantic import BaseModel, Field\n",
    "\n",
    "class WeatherData(BaseModel):\n",
    "    \"\"\"Weather information structure.\"\"\"\n",
    "\n",
    "    temperature: float = Field(description=\"Temperature in Celsius\")\n",
    "    humidity: float = Field(description=\"Humidity percentage\")\n",
    "    condition: str\n",
    "    wind_speed: float\n",
    "\n",
    "def get_weather(city: str) -> WeatherData:\n",
    "    return WeatherData(\n",
    "        temperature=72.5,\n",
    "        humidity=45.0,\n",
    "        condition=\"sunny\",\n",
    "        wind_speed=5.2,\n",
    "    )\n",
    "\n",
    "print(get_weather(\"Beijing\"))"
   ]
  }
 ],
 "metadata": {
  "kernelspec": {
   "display_name": "llm_env",
   "language": "python",
   "name": "python3"
  },
  "language_info": {
   "codemirror_mode": {
    "name": "ipython",
    "version": 3
   },
   "file_extension": ".py",
   "mimetype": "text/x-python",
   "name": "python",
   "nbconvert_exporter": "python",
   "pygments_lexer": "ipython3",
   "version": "3.10.12"
  }
 },
 "nbformat": 4,
 "nbformat_minor": 5
}
