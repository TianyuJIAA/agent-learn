{
 "cells": [
  {
   "cell_type": "markdown",
   "id": "70f2caf1",
   "metadata": {},
   "source": [
    "## doris mcp server\n",
    "\n",
    "对doris mcp server的学习文档"
   ]
  },
  {
   "cell_type": "markdown",
   "id": "b089cdf1",
   "metadata": {},
   "source": [
    "### mysql\n",
    "\n",
    "mac安装mysql，后面可以通过mysql协议连接doris\n",
    "\n",
    "```shell\n",
    "# 安装mysql\n",
    "brew install mysql\n",
    "\n",
    "\n",
    "```"
   ]
  }
 ],
 "metadata": {
  "kernelspec": {
   "display_name": "llm_env",
   "language": "python",
   "name": "python3"
  },
  "language_info": {
   "codemirror_mode": {
    "name": "ipython",
    "version": 3
   },
   "file_extension": ".py",
   "mimetype": "text/x-python",
   "name": "python",
   "nbconvert_exporter": "python",
   "pygments_lexer": "ipython3",
   "version": "3.10.12"
  }
 },
 "nbformat": 4,
 "nbformat_minor": 5
}
