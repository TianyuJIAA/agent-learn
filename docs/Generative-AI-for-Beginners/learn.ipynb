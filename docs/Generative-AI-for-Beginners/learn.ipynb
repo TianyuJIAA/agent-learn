{
 "cells": [
  {
   "cell_type": "markdown",
   "id": "4afff7f7",
   "metadata": {},
   "source": [
    "\n",
    "### 企业部署使用模型的四种方式\n",
    "\n",
    "<img src=\"images/enterprise.png\" alt=\"enterprise\" title=\"企业部署使用模型的四种方式\" width=\"800\" height=\"400\">\n",
    "\n",
    "*Img source: [Four Ways that Enterprises Deploy LLMs | Fiddler AI Blog](https://www.fiddler.ai/blog/four-ways-that-enterprises-deploy-llms?WT.mc_id=academic-105485-koreyst)*\n"
   ]
  },
  {
   "cell_type": "markdown",
   "id": "e67530bf",
   "metadata": {},
   "source": [
    "### 提示词工程"
   ]
  }
 ],
 "metadata": {
  "kernelspec": {
   "display_name": "llm_env",
   "language": "python",
   "name": "python3"
  },
  "language_info": {
   "name": "python",
   "version": "3.10.12"
  }
 },
 "nbformat": 4,
 "nbformat_minor": 5
}
