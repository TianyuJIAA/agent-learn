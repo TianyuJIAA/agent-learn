{
 "cells": [
  {
   "cell_type": "code",
   "execution_count": 2,
   "metadata": {},
   "outputs": [
    {
     "name": "stdout",
     "output_type": "stream",
     "text": [
      "Requirement already satisfied: groq==0.9.0 in /Users/jiatianyu/miniconda3/envs/llm_env/lib/python3.10/site-packages (from -r requirements.txt (line 1)) (0.9.0)\n",
      "Requirement already satisfied: python-dotenv==1.0.1 in /Users/jiatianyu/miniconda3/envs/llm_env/lib/python3.10/site-packages (from -r requirements.txt (line 2)) (1.0.1)\n",
      "Requirement already satisfied: anyio<5,>=3.5.0 in /Users/jiatianyu/miniconda3/envs/llm_env/lib/python3.10/site-packages (from groq==0.9.0->-r requirements.txt (line 1)) (4.8.0)\n",
      "Requirement already satisfied: distro<2,>=1.7.0 in /Users/jiatianyu/miniconda3/envs/llm_env/lib/python3.10/site-packages (from groq==0.9.0->-r requirements.txt (line 1)) (1.9.0)\n",
      "Requirement already satisfied: httpx<1,>=0.23.0 in /Users/jiatianyu/miniconda3/envs/llm_env/lib/python3.10/site-packages (from groq==0.9.0->-r requirements.txt (line 1)) (0.27.2)\n",
      "Requirement already satisfied: pydantic<3,>=1.9.0 in /Users/jiatianyu/miniconda3/envs/llm_env/lib/python3.10/site-packages (from groq==0.9.0->-r requirements.txt (line 1)) (2.10.6)\n",
      "Requirement already satisfied: sniffio in /Users/jiatianyu/miniconda3/envs/llm_env/lib/python3.10/site-packages (from groq==0.9.0->-r requirements.txt (line 1)) (1.3.1)\n",
      "Requirement already satisfied: typing-extensions<5,>=4.7 in /Users/jiatianyu/miniconda3/envs/llm_env/lib/python3.10/site-packages (from groq==0.9.0->-r requirements.txt (line 1)) (4.12.2)\n",
      "Requirement already satisfied: exceptiongroup>=1.0.2 in /Users/jiatianyu/miniconda3/envs/llm_env/lib/python3.10/site-packages (from anyio<5,>=3.5.0->groq==0.9.0->-r requirements.txt (line 1)) (1.2.2)\n",
      "Requirement already satisfied: idna>=2.8 in /Users/jiatianyu/miniconda3/envs/llm_env/lib/python3.10/site-packages (from anyio<5,>=3.5.0->groq==0.9.0->-r requirements.txt (line 1)) (3.10)\n",
      "Requirement already satisfied: certifi in /Users/jiatianyu/miniconda3/envs/llm_env/lib/python3.10/site-packages (from httpx<1,>=0.23.0->groq==0.9.0->-r requirements.txt (line 1)) (2024.8.30)\n",
      "Requirement already satisfied: httpcore==1.* in /Users/jiatianyu/miniconda3/envs/llm_env/lib/python3.10/site-packages (from httpx<1,>=0.23.0->groq==0.9.0->-r requirements.txt (line 1)) (1.0.7)\n",
      "Requirement already satisfied: h11<0.15,>=0.13 in /Users/jiatianyu/miniconda3/envs/llm_env/lib/python3.10/site-packages (from httpcore==1.*->httpx<1,>=0.23.0->groq==0.9.0->-r requirements.txt (line 1)) (0.14.0)\n",
      "Requirement already satisfied: annotated-types>=0.6.0 in /Users/jiatianyu/miniconda3/envs/llm_env/lib/python3.10/site-packages (from pydantic<3,>=1.9.0->groq==0.9.0->-r requirements.txt (line 1)) (0.7.0)\n",
      "Requirement already satisfied: pydantic-core==2.27.2 in /Users/jiatianyu/miniconda3/envs/llm_env/lib/python3.10/site-packages (from pydantic<3,>=1.9.0->groq==0.9.0->-r requirements.txt (line 1)) (2.27.2)\n",
      "Note: you may need to restart the kernel to use updated packages.\n"
     ]
    }
   ],
   "source": [
    "%pip install -r requirements.txt"
   ]
  },
  {
   "cell_type": "markdown",
   "metadata": {},
   "source": [
    "> Deepseek api测试\n",
    "\n",
    "上下文拼接：\n",
    "\n",
    "对于推理模型，比如deepseek r1来说。在每一轮对话过程中，模型会输出思维链内容和最终回答，在下一轮d对话中，之前轮输的思维链内容不会被拼接到上下文中\n",
    "\n",
    "<img src=\"../assets/cot.png\" alt=\"examples\" style=\"zoom:50%;\" /> "
   ]
  },
  {
   "cell_type": "code",
   "execution_count": 2,
   "metadata": {},
   "outputs": [],
   "source": [
    "# 创建clent\n",
    "from openai import OpenAI\n",
    "from dotenv import load_dotenv\n",
    "\n",
    "import os\n",
    "load_dotenv()\n",
    "api_key = os.getenv(\"OPENAI_API_KEY\")\n",
    "\n",
    "client = OpenAI(api_key=api_key,base_url=\"https://api.deepseek.com\")"
   ]
  },
  {
   "cell_type": "code",
   "execution_count": 8,
   "metadata": {},
   "outputs": [
    {
     "data": {
      "text/plain": [
       "'Okay, let\\'s see. The user is asking how many times the letter \\'R\\' appears in the word \\'strawberry\\'. Hmm, first I need to make sure I spell the word correctly. Strawberry. Let me break it down. S-T-R-A-W-B-E-R-R-Y. Wait, is that right? Let me check again.\\n\\nSo, starting with S, then T, R, A, W, B, E, R, R, Y. Let me count the Rs. The third letter is R, and then after B and E, there are two Rs before the Y. So that\\'s one R in the beginning and two Rs towards the end. Wait, no. Wait, the spelling is S-T-R-A-W-B-E-R-R-Y. So after the W comes B, E, then R, R, Y. So the Rs are at the third position and then the seventh and eighth positions? Let me count again.\\n\\nLetters: S (1), T (2), R (3), A (4), W (5), B (6), E (7), R (8), R (9), Y (10). So positions 3, 8, and 9? Wait, that can\\'t be right. Because after B (6) comes E (7), then R (8), R (9), Y (10). So the Rs are at positions 3, 8, and 9? That would be three Rs. But wait, the word is strawberry. Let me confirm the correct spelling. Yes, strawberry is spelled S-T-R-A-W-B-E-R-R-Y. So the letters are S, T, R, A, W, B, E, R, R, Y. So the R appears at the third letter, then again at the eighth and ninth letters. So that\\'s three Rs? Wait, but when I say the letters: S, T, R, A, W, B, E, R, R, Y. So R is in the third position, and then two Rs at the end before Y. So that\\'s three Rs total. Wait, no. Third position is one R, then two Rs later. So 1 + 2 = 3. But I think the correct spelling has two Rs. Wait, maybe I\\'m miscounting. Let me write it out:\\n\\nS T R A W B E R R Y. Let\\'s list each letter with its position:\\n\\n1. S\\n\\n2. T\\n\\n3. R\\n\\n4. A\\n\\n5. W\\n\\n6. B\\n\\n7. E\\n\\n8. R\\n\\n9. R\\n\\n10. Y\\n\\nSo positions 3, 8, and 9 are R. That\\'s three Rs. Wait, but I thought strawberry is spelled with two Rs. Maybe I\\'m wrong. Let me check a dictionary. Oh, right! Strawberry is spelled with two Rs: S-T-R-A-W-B-E-R-R-Y. So after the E, there are two Rs. So that\\'s the third letter R, and then two more Rs. Wait, no. Wait, the third letter is R, then later after E, there are two Rs. So total Rs are 1 (from position 3) + 2 (positions 8 and 9) = 3? But that can\\'t be right. Wait, maybe I\\'m confusing the spelling. Let me check again. Let me look up the spelling of strawberry. Okay, according to the dictionary, strawberry is spelled S-T-R-A-W-B-E-R-R-Y. So yes, after the E, there are two Rs. So that\\'s R at position 3, and then two Rs at positions 8 and 9. So total three Rs. Wait, but I always thought it\\'s two Rs. Wait, maybe the user is tricking me. Let me count again.\\n\\nS (1), T (2), R (3), A (4), W (5), B (6), E (7), R (8), R (9), Y (10). So three Rs. But when I think about the pronunciation, \"strawberry\" is pronounced with a \"berr\" sound, which is two Rs. But in spelling, there are three Rs? No, that doesn\\'t make sense. Wait, maybe I\\'m making a mistake here. Let me check another source. Oh wait, no. The correct spelling of strawberry is S-T-R-A-W-B-E-R-R-Y. So yes, two Rs after the E. So positions 8 and 9. So in total, there are three Rs: one at position 3 and two at positions 8 and 9. Wait, but that can\\'t be right. Let me see: S-T-R-A-W-B-E-R-R-Y. So the letters are S, T, R, A, W, B, E, R, R, Y. So R appears three times. But that\\'s not correct. Wait, no. Wait, the word is \"strawberry\". The correct spelling has two Rs. Let me think again. The word is \"straw\" + \"berry\". \"Straw\" is S-T-R-A-W, and \"berry\" is B-E-R-R-Y. So \"straw\" + \"berry\" = strawberry. So \"berry\" has two Rs. So in the combined word, \"strawberry\", the Rs are from \"straw\" (the R in \"straw\") and the two Rs in \"berry\". Therefore, total three Rs. But that\\'s not right because \"straw\" is S-T-R-A-W, which has one R, and \"berry\" is B-E-R-R-Y, which has two Rs. So combined, strawberry has three Rs. But that seems incorrect. Wait, but when I actually spell it out, it\\'s S-T-R-A-W-B-E-R-R-Y. So yes, three Rs. Wait, maybe I\\'m overcomplicating. Let me just write the letters:\\n\\nS, T, R, A, W, B, E, R, R, Y.\\n\\nNow count the Rs: positions 3, 8, 9. So three Rs. But that\\'s not right. I must be making a mistake here. Let me check an actual dictionary. Let me search \"strawberry spelling\". Okay, according to Oxford dictionary, it\\'s spelled S-T-R-A-W-B-E-R-R-Y. So letters: S, T, R, A, W, B, E, R, R, Y. So three Rs? Wait, no. Wait, S-T-R-A-W-B-E-R-R-Y. Let me list them again:\\n\\n1. S\\n\\n2. T\\n\\n3. R\\n\\n4. A\\n\\n5. W\\n\\n6. B\\n\\n7. E\\n\\n8. R\\n\\n9. R\\n\\n10. Y\\n\\nSo yes, three Rs. But that\\'s conflicting with what I thought before. Wait, maybe I\\'ve been spelling it wrong all this time. But according to the dictionary, it\\'s three Rs. Wait, no, that can\\'t be. Because \"berry\" has two Rs, and \"straw\" has one R. So combined, it\\'s three. But when I write it out, I think it\\'s two Rs. Wait, maybe the dictionary entry is wrong. Let me check another source. Cambridge Dictionary: strawberry, spelled S-T-R-A-W-B-E-R-R-Y. So yes, three Rs. So the answer is three. But the user might think there are two. Wait, maybe the user is trying to trick me. Or maybe I\\'m confusing the pronunciation. Because when you say \"strawberry\", the \"R\" sound is only twice? But in spelling, it\\'s three. So the correct answer is three Rs. But I need to make sure. Let me count again:\\n\\nS T R A W B E R R Y\\n\\nLetters: S, T, R, A, W, B, E, R, R, Y. So R appears at positions 3, 8, and 9. That\\'s three Rs. So the answer is 3. But I\\'m so confused because I always thought it was two Rs. Wait, maybe I was wrong. Let me check the spelling again. Yes, the correct spelling is strawberry with two Rs after the E. So in total, three Rs. Hmm. So the answer is 3. But maybe the user expects 2. Wait, maybe I\\'m counting wrong. Let me try again. S-T-R-A-W-B-E-R-R-Y. So from the beginning:\\n\\n1. S\\n\\n2. T\\n\\n3. R\\n\\n4. A\\n\\n5. W\\n\\n6. B\\n\\n7. E\\n\\n8. R\\n\\n9. R\\n\\n10. Y\\n\\nYes, three Rs. So the answer is three. But wait, when I think of the word, I don\\'t pronounce three Rs. But spelling is different from pronunciation. So the correct answer is three. But maybe I\\'m overcomplicating. Let me confirm with another example. The word \"berry\" has two Rs. \"Straw\" has one R. So combined, strawberry has three Rs. Yes. So the answer is three.'"
      ]
     },
     "execution_count": 8,
     "metadata": {},
     "output_type": "execute_result"
    }
   ],
   "source": [
    "# 推理模型，输出思维链内容\n",
    "# 非流式\n",
    "\n",
    "# Round 1\n",
    "messages = [{\"role\": \"user\", \"content\": \"你好呀\"}]\n",
    "response = client.chat.completions.create(\n",
    "    model=\"deepseek-reasoner\",\n",
    "    messages=messages\n",
    ")\n",
    "\n",
    "reasoning_content = response.choices[0].message.reasoning_content\n",
    "content = response_content = response.choices[0].message.content\n",
    "\n",
    "# Round 2\n",
    "messages.append({'role': 'assistant', 'content': content})\n",
    "messages.append({'role': 'user', 'content': \"How many Rs are there in the word 'strawberry'?\"})\n",
    "response = client.chat.completions.create(\n",
    "    model=\"deepseek-reasoner\",\n",
    "    messages=messages\n",
    ")\n",
    "\n",
    "reasoning_content = response.choices[0].message.reasoning_content\n",
    "reasoning_content"
   ]
  },
  {
   "cell_type": "code",
   "execution_count": 9,
   "metadata": {},
   "outputs": [
    {
     "name": "stdout",
     "output_type": "stream",
     "text": [
      "Okay, let's tackle this question: \"How many Rs are there in the word 'strawberry'?\" Hmm, first I need to make sure I spell the word correctly. Strawberry. Let me break it down letter by letter.\n",
      "\n",
      "S-T-R-A-W-B-E-R-R-Y. Wait, is that right? Let me write it out: S, T, R, A, W, B, E, R, R, Y. Let me count the letters again to confirm. S (1), T (2), R (3), A (4), W (5), B (6), E (7), R (8), R (9), Y (10). So the word has 10 letters. But the user is asking specifically about the number of Rs.\n",
      "\n",
      "Looking at the letters: R is the third letter. Then after B and E, there's R again. Wait, is that two Rs at the end before Y? Let me check again. Breaking it down:\n",
      "\n",
      "1. S\n",
      "2. T\n",
      "3. R\n",
      "4. A\n",
      "5. W\n",
      "6. B\n",
      "7. E\n",
      "8. R\n",
      "9. R\n",
      "10. Y\n",
      "\n",
      "So positions 3, 8, and 9 are R, R, and R? Wait, that can't be right. Wait, maybe I made a mistake in the breakdown. Let me think again. The correct spelling of strawberry is S-T-R-A-W-B-E-R-R-Y. So after B comes E, then two Rs, and then Y. So the letters after B are E, R, R, Y. So that's two Rs there. So in total, the first R is at position 3, and then two more Rs at positions 8 and 9. Wait, no, the letters would be:\n",
      "\n",
      "S (1)\n",
      "T (2)\n",
      "R (3)\n",
      "A (4)\n",
      "W (5)\n",
      "B (6)\n",
      "E (7)\n",
      "R (8)\n",
      "R (9)\n",
      "Y (10)\n",
      "\n",
      "So that's three Rs? But wait, isn't strawberry spelled with two Rs? Let me confirm. I think the correct spelling is S-T-R-A-W-B-E-R-R-Y. So yes, there are two Rs towards the end. So in total, one R after S-T, then two Rs after B-E. Wait, no, the initial R is one, and then two Rs after E. So total of three Rs? Wait, that can't be right. Let me check an actual dictionary or think of how it's pronounced. Straw-ber-ry. The \"ber\" part is B-E-R, then another R? Wait, maybe the spelling is S-T-R-A-W-B-E-R-R-Y. So after B, it's E, R, R, Y. So two Rs there. So the total Rs would be the R in STR and the two Rs in ERRY. So three Rs? But I'm getting confused here. Let me write it again:\n",
      "\n",
      "S-T-R-A-W-B-E-R-R-Y. Breaking it down:\n",
      "\n",
      "Letters: S, T, R, A, W, B, E, R, R, Y. So positions 3, 8, 9 are Rs. That's three Rs. But wait, that seems incorrect. Because the standard spelling is strawberry with two Rs. Wait, maybe I'm miscounting. Let me look it up mentally. Strawberry is spelled S-T-R-A-W-B-E-R-R-Y. Yes, so after the B, it's E, then two Rs, then Y. So that's two Rs at the end. Plus the R in the beginning, making three Rs total? But that doesn't sound right. Wait, no, the beginning is S-T-R, so R is the third letter. Then after W and B, it's E, then R, R, Y. So the Rs are at positions 3, 8, and 9. So three Rs. But I'm pretty sure that strawberry has two Rs. Wait, maybe I'm splitting the letters wrong. Let me try again:\n",
      "\n",
      "S-T-R-A-W-B-E-R-R-Y. So the letters are:\n",
      "\n",
      "1. S\n",
      "2. T\n",
      "3. R\n",
      "4. A\n",
      "5. W\n",
      "6. B\n",
      "7. E\n",
      "8. R\n",
      "9. R\n",
      "10. Y\n",
      "\n",
      "Yes, so three Rs. But that contradicts my previous thought. Wait, maybe I'm wrong. Let me confirm. Checking the spelling again: strawberry. The correct spelling is S-T-R-A-W-B-E-R-R-Y. So yes, two Rs after the E. So that's positions 8 and 9. Then the R at position 3. So total three Rs. Wait, but when I think of the word, I don't pronounce three Rs. Maybe I'm making a mistake here. Let me use another approach. Let's write the word and underline each R:\n",
      "\n",
      "Strawberry: S T R A W B E R R Y\n",
      "\n",
      "So underlining the Rs: R at position 3, then R at position 8 and 9. So three Rs. But that seems odd. Wait, maybe the correct spelling only has two Rs. Let me check. Alternatively, perhaps the user made a typo, but the question is about the word 'strawberry' as given. So assuming the spelling is correct, the answer would be three Rs. But I need to verify. Maybe I'm miscounting. Let's see:\n",
      "\n",
      "S T R A W B E R R Y\n",
      "\n",
      "Breaking it down:\n",
      "\n",
      "1. S\n",
      "2. T\n",
      "3. R\n",
      "4. A\n",
      "5. W\n",
      "6. B\n",
      "7. E\n",
      "8. R\n",
      "9. R\n",
      "10. Y\n",
      "\n",
      "So yes, three Rs. But wait, when you spell strawberry, it's S-T-R-A-W-B-E-R-R-Y. So two Rs after the E. So positions 8 and 9. So that's two Rs. Plus the R in the beginning (position 3), making three Rs. But I'm confused because I thought strawberry was spelled with two Rs total. Let me check a dictionary. According to standard English spelling, strawberry is spelled S-T-R-A-W-B-E-R-R-Y, which includes two Rs after the E. Therefore, there are two Rs in total. Wait, but where is the third R? The first R is in the \"stra\" part. So that's one R. Then two Rs in \"erry\". So total three Rs. Wait, no, that can't be. Let me count again. S-T-R-A-W-B-E-R-R-Y. So letters are S, T, R, A, W, B, E, R, R, Y. So three Rs: positions 3, 8, and 9. Therefore, the answer is three. But I'm really confused because when I think of the word, I don't remember three Rs. Let me look it up. Checking the spelling of strawberry, it's S-T-R-A-W-B-E-R-R-Y. So yes, two Rs at the end. So total two Rs? Wait, no, there's the R in \"stra\" and then two Rs in \"erry\". So three Rs. But maybe I'm splitting the syllables wrong. The word is straw-ber-ry. So \"ber\" has one R, and \"ry\" has another R. Wait, but in the spelling, it's B-E-R-R-Y. So two Rs after E. So that's two Rs. Plus the initial R in \"straw\", making three Rs. Hmm. So the answer should be three. But I'm not entirely sure. Maybe I should double-check. Let me type out the word and count the Rs: strawberry. S-T-R-A-W-B-E-R-R-Y. So R appears at position 3, 8, and 9. That's three Rs. Therefore, the answer is 3. But I need to confirm. Alternatively, maybe the user made a typo and meant \"strawberry\" with two Rs, but according to the exact letters provided, it's three. Wait, no, the user wrote 'strawberry' in the question. Let me make sure the user didn't misspell it. The user wrote 'strawberry' correctly. So in the correct spelling, there are two Rs after the E. So total two Rs? No, because the first R is in 'straw', then two Rs in 'berry'. Wait, no, 'strawberry' is a combination of 'straw' and 'berry'. So 'berry' is B-E-R-R-Y, which has two Rs. So combining 'straw' (S-T-R-A-W) and 'berry' (B-E-R-R-Y), you get S-T-R-A-W-B-E-R-R-Y. So total three Rs: one from 'straw' and two from 'berry'. Therefore, the answer is three. But this is conflicting with my initial thought. Let me check an online source. According to Oxford dictionary, strawberry is spelled S-T-R-A-W-B-E-R-R-Y. So letters: S, T, R, A, W, B, E, R, R, Y. So three Rs. Therefore, the correct answer is three. Wait, but when I say the word, I don't pronounce three Rs. Maybe it's silent? No, in pronunciation, it's /ˈstrɔːbəri/, so two Rs? Or maybe three? I'm not sure. But the question is about the letters, not the pronunciation. So according to the spelling, there are three Rs. Therefore, the answer should be three. But I'm still uncertain because I might have miscounted. Let me write it out again:\n",
      "\n",
      "S T R A W B E R R Y\n",
      "\n",
      "Now, mark each R:\n",
      "\n",
      "1. S\n",
      "2. T\n",
      "3. R (1)\n",
      "4. A\n",
      "5. W\n",
      "6. B\n",
      "7. E\n",
      "8. R (2)\n",
      "9. R (3)\n",
      "10. Y\n",
      "\n",
      "So three Rs. Yes, that's correct. So the answer is three. Therefore, the user might have expected two, but according to the actual spelling, it's three. Therefore, the correct answer is three."
     ]
    }
   ],
   "source": [
    "# 流式\n",
    "response = client.chat.completions.create(\n",
    "    model=\"deepseek-reasoner\",\n",
    "    messages=messages,\n",
    "    stream=True\n",
    ")\n",
    "\n",
    "reasoning_content = \"\"\n",
    "for chunk in response:\n",
    "    if chunk.choices[0].delta.reasoning_content:\n",
    "        reasoning_content += chunk.choices[0].delta.reasoning_content\n",
    "        print(chunk.choices[0].delta.reasoning_content, end=\"\", flush=True)"
   ]
  },
  {
   "cell_type": "code",
   "execution_count": 4,
   "metadata": {},
   "outputs": [
    {
     "data": {
      "text/plain": [
       "[{'role': 'user', 'content': \"What's the highest mountain in the world?\"},\n",
       " {'role': 'assistant',\n",
       "  'content': 'The highest mountain in the world is **Mount Everest**, located in the **Mahalangur Himal** sub-range of the **Himalayas** on the border between **Nepal** and **Tibet (China)**.  \\n\\n- **Elevation:** **8,848.86 meters (29,031.7 feet)** above sea level (as per the latest 2020 survey by Nepal and China).  \\n- **First Ascent:** Sir **Edmund Hillary** (New Zealand) and **Tenzing Norgay** (Nepal/India) reached the summit on **May 29, 1953**.  \\n\\nMount Everest is also known as:  \\n- **Sagarmatha** (in Nepal)  \\n- **Chomolungma** (in Tibet, meaning \"Goddess Mother of the World\")  \\n\\nWould you like details on climbing routes, records, or other extreme mountains?'}]"
      ]
     },
     "execution_count": 4,
     "metadata": {},
     "output_type": "execute_result"
    }
   ],
   "source": [
    "# 多轮对话\n",
    "# Round 1\n",
    "messages = [{\"role\": \"user\", \"content\": \"What's the highest mountain in the world?\"}]\n",
    "response = client.chat.completions.create(\n",
    "    model=\"deepseek-chat\",\n",
    "    messages=messages\n",
    ")\n",
    "\n",
    "msg = response.choices[0].message\n",
    "\n",
    "messages.append({\"role\": msg.role, \"content\": msg.content})\n",
    "messages"
   ]
  },
  {
   "cell_type": "code",
   "execution_count": null,
   "metadata": {},
   "outputs": [
    {
     "name": "stdout",
     "output_type": "stream",
     "text": [
      "get_weather\n",
      "{'location': 'Boston', 'temperature': '22°C', 'condition': 'Sunny'}\n",
      "The weather in Boston is currently sunny with a temperature of 22°C.\n"
     ]
    }
   ],
   "source": [
    "# function calling tools\n",
    "\n",
    "messages = [\n",
    "    {\"role\": \"user\", \"content\": \"What's the weather like in Boston?\"},\n",
    "]\n",
    "\n",
    "def get_weather(location: str):\n",
    "    \"\"\"获取当前天气\"\"\"\n",
    "    return {\n",
    "        \"location\": location,\n",
    "        \"temperature\": \"22°C\",\n",
    "        \"condition\": \"Sunny\"\n",
    "    }\n",
    "\n",
    "tools = [\n",
    "    {\n",
    "        \"type\": \"function\",\n",
    "        \"function\": {\n",
    "            \"name\": \"get_weather\",\n",
    "            \"description\": \"Get weather of an location, the user shoud supply a location first\",\n",
    "            \"parameters\": {\n",
    "                \"type\": \"object\",\n",
    "                \"properties\": {\n",
    "                    \"location\": {\n",
    "                        \"type\": \"string\",\n",
    "                        \"description\": \"The city and state, e.g. San Francisco, CA\",\n",
    "                    }\n",
    "                },\n",
    "                \"required\": [\"location\"]\n",
    "            },\n",
    "        }\n",
    "    },\n",
    "]\n",
    "\n",
    "def get_response(messages):\n",
    "    response = client.chat.completions.create(\n",
    "        model=\"deepseek-chat\",\n",
    "        messages=messages,\n",
    "        tools=tools,\n",
    "    )\n",
    "    return response\n",
    "\n",
    "response = get_response(messages)\n",
    "\n",
    "# 需要把返回的内容添加到消息列表中\n",
    "messages.append({\n",
    "    \"role\": \"assistant\",\n",
    "    \"content\": None,  # Content is None when there are tool calls\n",
    "    \"tool_calls\": response.choices[0].message.tool_calls\n",
    "})\n",
    "\n",
    "tool = response.choices[0].message.tool_calls[0]\n",
    "\n",
    "# 调用工具\n",
    "if response.choices[0].message.tool_calls:\n",
    "    function_name = response.choices[0].message.tool_calls[0].function.name\n",
    "    print(function_name)\n",
    "    if function_name == \"get_weather\":\n",
    "        location = eval(response.choices[0].message.tool_calls[0].function.arguments)[\"location\"]\n",
    "        weather_info = get_weather(location)\n",
    "        print(weather_info)\n",
    "messages.append({\"role\": \"tool\", \"tool_call_id\": tool.id, \"content\": str(weather_info)})\n",
    "# 发送更新后的消息列表\n",
    "response = get_response(messages)\n",
    "print(response.choices[0].message.content)"
   ]
  },
  {
   "cell_type": "code",
   "execution_count": null,
   "metadata": {
    "vscode": {
     "languageId": "shellscript"
    }
   },
   "outputs": [],
   "source": [
    "# push代码使出现了Failed to connect to github.com port 443 after 75002 ms\n",
    "# 解决方法，执行下面的两个命令\n",
    "# 删除https代理设置\n",
    "git config --global --unset https.proxy\n",
    "# 删除http代理设置\n",
    "git config --global --unset http.proxy"
   ]
  }
 ],
 "metadata": {
  "kernelspec": {
   "display_name": "llm_env",
   "language": "python",
   "name": "python3"
  },
  "language_info": {
   "codemirror_mode": {
    "name": "ipython",
    "version": 3
   },
   "file_extension": ".py",
   "mimetype": "text/x-python",
   "name": "python",
   "nbconvert_exporter": "python",
   "pygments_lexer": "ipython3",
   "version": "3.10.12"
  }
 },
 "nbformat": 4,
 "nbformat_minor": 2
}
