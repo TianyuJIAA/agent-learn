{
 "cells": [
  {
   "cell_type": "code",
   "execution_count": null,
   "id": "f21acb1f",
   "metadata": {},
   "outputs": [
    {
     "data": {
      "text/plain": [
       "{'searchParameters': {'q': 'weather in 北京',\n",
       "  'type': 'search',\n",
       "  'num': 2,\n",
       "  'engine': 'google'},\n",
       " 'organic': [{'title': 'Beijing, Beijing, China Weather Forecast - AccuWeather',\n",
       "   'link': 'https://www.accuweather.com/en/cn/beijing/101924/weather-forecast/101924',\n",
       "   'snippet': 'Hourly Weather · 1 PM 78°. rain drop 25% · 2 PM 78°. rain drop 20% · 3 PM 79°. rain drop 20% · 4 PM 81°. rain drop 20% · 5 PM 80°. rain drop 20% · 6 PM 79°.',\n",
       "   'sitelinks': [{'title': 'Daily',\n",
       "     'link': 'https://www.accuweather.com/en/cn/beijing/101924/daily-weather-forecast/101924'},\n",
       "    {'title': 'Monthly',\n",
       "     'link': 'https://www.accuweather.com/en/cn/beijing/101924/may-weather/101924'},\n",
       "    {'title': 'Current Weather',\n",
       "     'link': 'https://www.accuweather.com/en/cn/beijing/101924/current-weather/101924'},\n",
       "    {'title': 'Hourly',\n",
       "     'link': 'https://www.accuweather.com/en/cn/beijing/101924/hourly-weather-forecast/101924'}],\n",
       "   'position': 1},\n",
       "  {'title': '中国气象局-天气预报- 北京',\n",
       "   'link': 'https://weather.cma.cn/web/weather/54511.html',\n",
       "   'snippet': '星期日 07/20. 雷阵雨 · 29℃ ; 星期一 07/21. 多云 · 33℃ ; 星期二 07/22. 晴 · 33℃ ; 星期三 07/23. 阴 · 31℃ ; 星期四 07/24. 阴 · 31℃.',\n",
       "   'position': 2}],\n",
       " 'relatedSearches': [{'query': 'Shanghai weather'},\n",
       "  {'query': 'Beijing weather forecast 15 days'},\n",
       "  {'query': 'Beijing weather forecast 30 days'},\n",
       "  {'query': 'Harbin weather'},\n",
       "  {'query': '北京天气'},\n",
       "  {'query': '天气朝阳区'},\n",
       "  {'query': '成都天气'},\n",
       "  {'query': 'Hangzhou weather'},\n",
       "  {'query': '北京今天气候'},\n",
       "  {'query': 'Beijing weather by month'}],\n",
       " 'credits': 1}"
      ]
     },
     "execution_count": 1,
     "metadata": {},
     "output_type": "execute_result"
    }
   ],
   "source": [
    "# google serch api\n",
    "import requests\n",
    "import json\n",
    "\n",
    "url = \"https://google.serper.dev/search\"\n",
    "\n",
    "payload = json.dumps({\n",
    "  \"q\": \"weather in 北京\", \"num\": 2\n",
    "})\n",
    "headers = {\n",
    "  'X-API-KEY': 'xxxx',\n",
    "  'Content-Type': 'application/json'\n",
    "}\n",
    "\n",
    "response = requests.request(\"POST\", url, headers=headers, data=payload)\n",
    "\n",
    "results = response.json()\n",
    "results"
   ]
  },
  {
   "cell_type": "code",
   "execution_count": null,
   "id": "1604f3b0",
   "metadata": {},
   "outputs": [],
   "source": [
    "from bs4 import BeautifulSoup\n",
    "\n",
    "snippets = ''\n",
    "\n",
    "for result in results[\"organic\"]:\n",
    "    snippets += result[\"snippet\"]"
   ]
  },
  {
   "cell_type": "code",
   "execution_count": null,
   "id": "f89b3c45",
   "metadata": {},
   "outputs": [
    {
     "data": {
      "text/plain": [
       "'\\nAccess Denied\\n\\nAccess Denied\\n \\nYou don\\'t have permission to access \"http://www.accuweather.com/en/cn/beijing/101924/weather-forecast/101924\" on this server.\\nReference #18.36d82317.1753010582.2560528e\\nhttps://errors.edgesuite.net/18.36d82317.1753010582.2560528e\\n\\n\\n'"
      ]
     },
     "execution_count": 2,
     "metadata": {},
     "output_type": "execute_result"
    }
   ],
   "source": [
    "import requests\n",
    "from bs4 import BeautifulSoup\n",
    "\n",
    "url = 'https://python.langchain.com/docs/concepts/why_langchain/'\n",
    "\n",
    "response = requests.get(url)\n",
    "soup = BeautifulSoup(response.text, 'html.parser')\n",
    "text = soup.get_text()\n",
    "text\n"
   ]
  }
 ],
 "metadata": {
  "kernelspec": {
   "display_name": "llm_env",
   "language": "python",
   "name": "python3"
  },
  "language_info": {
   "codemirror_mode": {
    "name": "ipython",
    "version": 3
   },
   "file_extension": ".py",
   "mimetype": "text/x-python",
   "name": "python",
   "nbconvert_exporter": "python",
   "pygments_lexer": "ipython3",
   "version": "3.10.12"
  }
 },
 "nbformat": 4,
 "nbformat_minor": 5
}
